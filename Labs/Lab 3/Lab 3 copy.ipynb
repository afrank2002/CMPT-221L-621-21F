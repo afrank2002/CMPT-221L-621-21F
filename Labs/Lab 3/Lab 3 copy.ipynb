{
 "cells": [
  {
   "cell_type": "markdown",
   "source": [
    "# Lab Three\n",
    "---\n",
    "\n",
    "Ok for this lab we're going to reiterate a lot of the things that we went over in class.\n",
    "\n",
    "Our Goals are:\n",
    "- Understanding Variable Types\n",
    "- Defining Variables\n",
    "- Using Conditionals\n",
    "- Using Loops\n",
    "- Creating Objects\n",
    "- Writing a function\n"
   ],
   "metadata": {}
  },
  {
   "cell_type": "markdown",
   "source": [
    "## What's the difference between Null and undefined?"
   ],
   "metadata": {}
  },
  {
   "cell_type": "markdown",
   "source": [
    "Both null and undefined have no value but null is put in by the user while undefined is not."
   ],
   "metadata": {}
  },
  {
   "cell_type": "markdown",
   "source": [
    "## List the 3 Variable Types and Use Them!"
   ],
   "metadata": {}
  },
  {
   "cell_type": "markdown",
   "source": [
    "1. var\n",
    "2. let\n",
    "3. const"
   ],
   "metadata": {}
  },
  {
   "cell_type": "code",
   "execution_count": 2,
   "source": [
    "var myAge = 19;\n",
    "console.log(myAge)\n",
    "\n",
    "let myLastName = \"Frank\"\n",
    "console.log(myLastName);\n",
    "\n",
    "const myFirstName = \"Austin\";\n",
    "console.log(myFirstName);"
   ],
   "outputs": [
    {
     "output_type": "stream",
     "name": "stdout",
     "text": [
      "19\n",
      "Frank\n",
      "Austin\n"
     ]
    }
   ],
   "metadata": {}
  },
  {
   "cell_type": "markdown",
   "source": [
    "## Use an If/Else If/Else Statement and a Switch Case statement"
   ],
   "metadata": {}
  },
  {
   "cell_type": "code",
   "execution_count": 1,
   "source": [
    "let rain = true;\n",
    "let snow = false;\n",
    "if(rain)\n",
    "{\n",
    "    console.log(\"it is raining!\");\n",
    "}\n",
    "else if(snow)\n",
    "{\n",
    "    console.log(\"It is snowing!\");\n",
    "}\n",
    "else\n",
    "{\n",
    "    console.log(\"It is sunny!\");\n",
    "}"
   ],
   "outputs": [
    {
     "output_type": "stream",
     "name": "stdout",
     "text": [
      "it is raining!\n"
     ]
    }
   ],
   "metadata": {}
  },
  {
   "cell_type": "code",
   "execution_count": 1,
   "source": [
    "//Switch case\n",
    "let food = \"Burger\";\n",
    "switch(food)\n",
    "{\n",
    "    case \"French Fries\":\n",
    "        console.log(\"The food is\", food);\n",
    "        break;\n",
    "    case \"Chicken Nuggets\":\n",
    "        console.log(\"The food is\", food);\n",
    "        break;\n",
    "    case \"Burger\":\n",
    "        console.log(\"The food is\", food);\n",
    "        break;\n",
    "    default:\n",
    "        console.log(\"There is no food!\");\n",
    "        break;\n",
    "}"
   ],
   "outputs": [
    {
     "output_type": "stream",
     "name": "stdout",
     "text": [
      "The food is Burger\n"
     ]
    }
   ],
   "metadata": {}
  },
  {
   "cell_type": "markdown",
   "source": [
    "## Use a For and a While Loop"
   ],
   "metadata": {}
  },
  {
   "cell_type": "code",
   "execution_count": 9,
   "source": [
    "for(var i = 1; i <= 5; i++)\n",
    "{\n",
    "    console.log(i + \". \" + \"Welcome to Soft Dev II\");\n",
    "}"
   ],
   "outputs": [
    {
     "output_type": "stream",
     "name": "stdout",
     "text": [
      "1. Welcome to Soft Dev II\n",
      "2. Welcome to Soft Dev II\n",
      "3. Welcome to Soft Dev II\n",
      "4. Welcome to Soft Dev II\n",
      "5. Welcome to Soft Dev II\n"
     ]
    }
   ],
   "metadata": {}
  },
  {
   "cell_type": "code",
   "execution_count": 4,
   "source": [
    "var count = 1;\n",
    "var num = \"12345678\";\n",
    "while(count < 9)\n",
    "{\n",
    "    console.log(num.substring(0,count));\n",
    "    count++;\n",
    "}"
   ],
   "outputs": [
    {
     "output_type": "stream",
     "name": "stdout",
     "text": [
      "1\n",
      "12\n",
      "123\n",
      "1234\n",
      "12345\n",
      "123456\n",
      "1234567\n",
      "12345678\n"
     ]
    },
    {
     "output_type": "execute_result",
     "data": {
      "text/plain": [
       "8"
      ]
     },
     "metadata": {},
     "execution_count": 4
    }
   ],
   "metadata": {}
  },
  {
   "cell_type": "markdown",
   "source": [
    "## Make an object!"
   ],
   "metadata": {}
  },
  {
   "cell_type": "code",
   "execution_count": 1,
   "source": [
    "let person = \n",
    "{\n",
    "    firstName: \"Austin\",\n",
    "    middleName: \"Nicholas\",\n",
    "    lastName: \"Frank\",\n",
    "    age: 19,\n",
    "    location: \"Poughkeepsie\"\n",
    "}\n",
    "console.log(person)\n"
   ],
   "outputs": [
    {
     "output_type": "stream",
     "name": "stdout",
     "text": [
      "{\n",
      "  firstName: 'Austin',\n",
      "  middleName: 'Nicholas',\n",
      "  lastName: 'Frank',\n",
      "  age: 19,\n",
      "  location: 'Poughkeepsie'\n",
      "}\n"
     ]
    }
   ],
   "metadata": {}
  },
  {
   "cell_type": "markdown",
   "source": [
    "## Make a function, It can do anything!"
   ],
   "metadata": {}
  },
  {
   "cell_type": "code",
   "execution_count": 9,
   "source": [
    "function fahrToCels(fahrenheit)\n",
    "{\n",
    "    let celsius = Math.round((fahrenheit -32) * (5/9));\n",
    "    console.log(`Your temp in celcius is ${celsius} degrees!`);\n",
    "}\n",
    "fahrToCels(67);\n"
   ],
   "outputs": [
    {
     "output_type": "stream",
     "name": "stdout",
     "text": [
      "Your temp in celcius is 19 degrees!\n"
     ]
    }
   ],
   "metadata": {}
  },
  {
   "cell_type": "markdown",
   "source": [
    "## Optional: Checkout HackerRank and try a problem in Javascript"
   ],
   "metadata": {}
  }
 ],
 "metadata": {
  "orig_nbformat": 4,
  "language_info": {
   "name": "javascript",
   "version": "16.8.0",
   "mimetype": "application/javascript",
   "file_extension": ".js"
  },
  "kernelspec": {
   "name": "javascript",
   "display_name": "Javascript (Node.js)",
   "language": "javascript"
  }
 },
 "nbformat": 4,
 "nbformat_minor": 2
}